{
 "cells": [
  {
   "cell_type": "code",
   "execution_count": 1,
   "metadata": {},
   "outputs": [],
   "source": [
    "from IPython.display import clear_output\n",
    "\n",
    "def display_board(board):\n",
    "    clear_output()\n",
    "    \n",
    "    print('  |   |')\n",
    "    print(f\"{board[7]} | {board[8]} | {board[9]}\")\n",
    "    print('  |   |')\n",
    "    print('---------')\n",
    "    print('  |   |')\n",
    "    print(f\"{board[4]} | {board[5]} | {board[6]}\")\n",
    "    print('  |   |')\n",
    "    print('---------')\n",
    "    print('  |   |')\n",
    "    print(f\"{board[1]} | {board[2]} | {board[3]}\")\n",
    "    print('  |   |')"
   ]
  },
  {
   "cell_type": "code",
   "execution_count": 2,
   "metadata": {},
   "outputs": [
    {
     "name": "stdout",
     "output_type": "stream",
     "text": [
      "  |   |\n",
      "  |   |  \n",
      "  |   |\n",
      "---------\n",
      "  |   |\n",
      "  |   |  \n",
      "  |   |\n",
      "---------\n",
      "  |   |\n",
      "  |   |  \n",
      "  |   |\n"
     ]
    }
   ],
   "source": [
    "play_board = list((' ')*10)\n",
    "display_board(play_board)"
   ]
  },
  {
   "cell_type": "code",
   "execution_count": 3,
   "metadata": {},
   "outputs": [],
   "source": [
    "import random\n",
    "\n",
    "def whos_turn():\n",
    "    \n",
    "    turn = random.randint(0,1)\n",
    "    \n",
    "    if turn == 0:\n",
    "        return 'Player1'\n",
    "    else:\n",
    "        return 'Player2'"
   ]
  },
  {
   "cell_type": "code",
   "execution_count": 4,
   "metadata": {},
   "outputs": [
    {
     "data": {
      "text/plain": [
       "'Player2'"
      ]
     },
     "execution_count": 4,
     "metadata": {},
     "output_type": "execute_result"
    }
   ],
   "source": [
    "turn = whos_turn()\n",
    "turn"
   ]
  },
  {
   "cell_type": "code",
   "execution_count": 5,
   "metadata": {},
   "outputs": [],
   "source": [
    "def choose_marker():\n",
    "    \n",
    "    mark = ' '\n",
    "    count = 0\n",
    "    while mark != 'X' and mark != 'O':\n",
    "        if count == 1:\n",
    "            print('Enter a valid one (X,O) in upper or lower case')\n",
    "        mark = input(f'Player1, Choose your marker \\'X\\' or \\'O\\' ').upper()\n",
    "        count = 1\n",
    "        \n",
    "    if mark == 'X':\n",
    "        return ('X','O')\n",
    "    else:\n",
    "        return ('O','X')"
   ]
  },
  {
   "cell_type": "code",
   "execution_count": 6,
   "metadata": {},
   "outputs": [
    {
     "name": "stdout",
     "output_type": "stream",
     "text": [
      "Player1, Choose your marker 'X' or 'O' x\n"
     ]
    },
    {
     "data": {
      "text/plain": [
       "'X'"
      ]
     },
     "execution_count": 6,
     "metadata": {},
     "output_type": "execute_result"
    }
   ],
   "source": [
    "pl1,pl2 = choose_marker()\n",
    "pl1"
   ]
  },
  {
   "cell_type": "code",
   "execution_count": 7,
   "metadata": {},
   "outputs": [],
   "source": [
    "def assign_to_board(board,position,mark):\n",
    "    board[position] = mark\n",
    "    "
   ]
  },
  {
   "cell_type": "code",
   "execution_count": 8,
   "metadata": {},
   "outputs": [
    {
     "name": "stdout",
     "output_type": "stream",
     "text": [
      "  |   |\n",
      "  |   |  \n",
      "  |   |\n",
      "---------\n",
      "  |   |\n",
      "  |   |  \n",
      "  |   |\n",
      "---------\n",
      "  |   |\n",
      "  |   | X\n",
      "  |   |\n"
     ]
    }
   ],
   "source": [
    "assign_to_board(play_board,3,'X')\n",
    "display_board(play_board)"
   ]
  },
  {
   "cell_type": "code",
   "execution_count": 9,
   "metadata": {},
   "outputs": [],
   "source": [
    "def valid_position(board,position):\n",
    "    return board[position] == ' '"
   ]
  },
  {
   "cell_type": "code",
   "execution_count": 10,
   "metadata": {},
   "outputs": [
    {
     "name": "stdout",
     "output_type": "stream",
     "text": [
      "Choose your position in the range (1,10)3\n",
      "Invalid position! Try another one in the range (1,10)\n",
      "Choose your position in the range (1,10)1\n"
     ]
    }
   ],
   "source": [
    "def get_position(board):\n",
    "    position = 0\n",
    "    count = 0\n",
    "    \n",
    "    while position not in list(range(1,10)) or not valid_position(board,position):\n",
    "        if count == 1:\n",
    "            print('Invalid position! Try another one in the range (1,10)')\n",
    "        position = int(input('Choose your position in the range (1,10)'))\n",
    "        count = 1\n",
    "    return position\n",
    "\n",
    "position = get_position(play_board)\n"
   ]
  },
  {
   "cell_type": "code",
   "execution_count": 11,
   "metadata": {},
   "outputs": [],
   "source": [
    "def win_check(board,mark):\n",
    "    return ((board[7] == board[8] == board[9] == mark) or \n",
    "    (board[4] == board[5] == board[6] == mark) or \n",
    "    (board[1] == board[2] == board[3] == mark) or\n",
    "    (board[7] == board[4] == board[1] == mark) or \n",
    "    (board[8] == board[5] == board[2] == mark) or\n",
    "    (board[9] == board[6] == board[3] == mark) or \n",
    "    (board[7] == board[5] == board[3] == mark) or \n",
    "    (board[9] == board[2] == board[1] == mark))"
   ]
  },
  {
   "cell_type": "code",
   "execution_count": 12,
   "metadata": {},
   "outputs": [
    {
     "data": {
      "text/plain": [
       "False"
      ]
     },
     "execution_count": 12,
     "metadata": {},
     "output_type": "execute_result"
    }
   ],
   "source": [
    "win_check(play_board,'X')"
   ]
  },
  {
   "cell_type": "code",
   "execution_count": 13,
   "metadata": {},
   "outputs": [],
   "source": [
    "def tie_game(board):\n",
    "    \n",
    "    for position in range(1,10):\n",
    "        if valid_position(board,position):\n",
    "            return False\n",
    "    return True"
   ]
  },
  {
   "cell_type": "code",
   "execution_count": 14,
   "metadata": {},
   "outputs": [
    {
     "data": {
      "text/plain": [
       "False"
      ]
     },
     "execution_count": 14,
     "metadata": {},
     "output_type": "execute_result"
    }
   ],
   "source": [
    "tie_game(play_board)"
   ]
  },
  {
   "cell_type": "code",
   "execution_count": 15,
   "metadata": {},
   "outputs": [],
   "source": [
    "def replay():\n",
    "    pl_again = input('Do you want to play again? Yes or no :')\n",
    "    \n",
    "    return pl_again.lower() == 'yes'\n",
    "        "
   ]
  },
  {
   "cell_type": "code",
   "execution_count": 16,
   "metadata": {},
   "outputs": [
    {
     "name": "stdout",
     "output_type": "stream",
     "text": [
      "Do you want to play again? Yes or no :y\n"
     ]
    },
    {
     "data": {
      "text/plain": [
       "False"
      ]
     },
     "execution_count": 16,
     "metadata": {},
     "output_type": "execute_result"
    }
   ],
   "source": [
    "replay()"
   ]
  },
  {
   "cell_type": "code",
   "execution_count": null,
   "metadata": {},
   "outputs": [
    {
     "name": "stdout",
     "output_type": "stream",
     "text": [
      "  |   |\n",
      "X |   |  \n",
      "  |   |\n",
      "---------\n",
      "  |   |\n",
      "O | O | X\n",
      "  |   |\n",
      "---------\n",
      "  |   |\n",
      "X | O |  \n",
      "  |   |\n"
     ]
    }
   ],
   "source": [
    "# lets come to the gaming part\n",
    "\n",
    "print('Welcome to Tic Tac Toe')\n",
    "\n",
    "while True:\n",
    "    \n",
    "    pl1_mark,pl2_mark = choose_marker()\n",
    "    \n",
    "    turn = whos_turn()\n",
    "    print(f\"{turn} will go first\")\n",
    "    \n",
    "    pl1_name = input('Player1, Enter your name: ')\n",
    "    pl2_name = input('Player2, Enter your name ')\n",
    "    \n",
    "    play_board = [' ']*10\n",
    "    \n",
    "    if input('Ready To Play? yes or no').lower() == 'yes':\n",
    "        game_on = True\n",
    "    else:\n",
    "        game_on = False\n",
    "    \n",
    "    while game_on:\n",
    "        \n",
    "        if turn == 'Player1':\n",
    "            \n",
    "            display_board(play_board)\n",
    "            position = get_position(play_board)\n",
    "            assign_to_board(play_board,position,pl1_mark)\n",
    "            \n",
    "            #win check\n",
    "            if win_check(play_board,pl1_mark):\n",
    "                display_board(play_board)\n",
    "                print('Congrats {}! You have won the match against {}'.format(pl1_name, pl2_name))\n",
    "                game_on = False\n",
    "                break\n",
    "                \n",
    "            elif tie_game(play_board):\n",
    "                display_board(play_board)\n",
    "                print('The match has been tied')\n",
    "                game_on = False\n",
    "                break\n",
    "            else:\n",
    "                turn = 'Player2'\n",
    "        else:\n",
    "            \n",
    "            display_board(play_board)\n",
    "            position = get_position(play_board)\n",
    "            assign_to_board(play_board,position,pl2_mark)\n",
    "            \n",
    "            #win check\n",
    "            if win_check(play_board,pl2_mark):\n",
    "                display_board(play_board)\n",
    "                print('Congrats {}! You have won the match against {}'.format(pl2_name, pl1_name))\n",
    "                game_on = False\n",
    "                break\n",
    "                \n",
    "            elif tie_game(play_board):\n",
    "                display_board(play_board)\n",
    "                print('The match has been tied')\n",
    "                game_on = False\n",
    "                break\n",
    "            else:\n",
    "                turn = 'Player1'\n",
    "\n",
    "    \n",
    "    if not replay():\n",
    "        break"
   ]
  },
  {
   "cell_type": "code",
   "execution_count": null,
   "metadata": {
    "collapsed": true
   },
   "outputs": [],
   "source": []
  }
 ],
 "metadata": {
  "kernelspec": {
   "display_name": "Python 3",
   "language": "python",
   "name": "python3"
  },
  "language_info": {
   "codemirror_mode": {
    "name": "ipython",
    "version": 3
   },
   "file_extension": ".py",
   "mimetype": "text/x-python",
   "name": "python",
   "nbconvert_exporter": "python",
   "pygments_lexer": "ipython3",
   "version": "3.7.6"
  }
 },
 "nbformat": 4,
 "nbformat_minor": 4
}
